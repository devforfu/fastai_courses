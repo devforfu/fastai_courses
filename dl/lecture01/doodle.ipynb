{
 "cells": [
  {
   "cell_type": "code",
   "execution_count": 1,
   "metadata": {},
   "outputs": [],
   "source": [
    "from pathlib import Path\n",
    "from PIL import ImageDraw as PILDraw\n",
    "from PIL import Image as PILImage\n",
    "from cycler import cycler\n",
    "from itertools import chain\n",
    "import pandas as pd\n",
    "import numpy as np"
   ]
  },
  {
   "cell_type": "code",
   "execution_count": 2,
   "metadata": {},
   "outputs": [],
   "source": [
    "from fastai.vision import ImageDataBunch"
   ]
  },
  {
   "cell_type": "code",
   "execution_count": 3,
   "metadata": {},
   "outputs": [],
   "source": [
    "PATH = Path.home()/'data'/'doodle'\n",
    "PREPARED = PATH/'prepared'\n",
    "TRAIN_DATA = PATH/'train'"
   ]
  },
  {
   "cell_type": "code",
   "execution_count": 4,
   "metadata": {},
   "outputs": [],
   "source": [
    "RANDOM_STATE = 1"
   ]
  },
  {
   "cell_type": "code",
   "execution_count": 5,
   "metadata": {},
   "outputs": [],
   "source": [
    "np.random.seed(RANDOM_STATE)"
   ]
  },
  {
   "cell_type": "code",
   "execution_count": 6,
   "metadata": {
    "scrolled": true
   },
   "outputs": [
    {
     "name": "stdout",
     "output_type": "stream",
     "text": [
      " airplane.csv\t\t firetruck.csv\t        postcard.csv\r\n",
      "'alarm clock.csv'\t fish.csv\t        potato.csv\r\n",
      " ambulance.csv\t\t flamingo.csv\t       'power outlet.csv'\r\n",
      " angel.csv\t\t flashlight.csv         purse.csv\r\n",
      "'animal migration.csv'\t'flip flops.csv'        rabbit.csv\r\n",
      " ant.csv\t\t'floor lamp.csv'        raccoon.csv\r\n",
      " anvil.csv\t\t flower.csv\t        radio.csv\r\n",
      " apple.csv\t\t'flying saucer.csv'     rainbow.csv\r\n",
      " arm.csv\t\t foot.csv\t        rain.csv\r\n",
      " asparagus.csv\t\t fork.csv\t        rake.csv\r\n",
      " axe.csv\t\t frog.csv\t       'remote control.csv'\r\n",
      " backpack.csv\t\t'frying pan.csv'        rhinoceros.csv\r\n",
      " banana.csv\t\t garden.csv\t        river.csv\r\n",
      " bandage.csv\t\t'garden hose.csv'      'roller coaster.csv'\r\n",
      " barn.csv\t\t giraffe.csv\t        rollerskates.csv\r\n",
      "'baseball bat.csv'\t goatee.csv\t        sailboat.csv\r\n",
      " baseball.csv\t\t'golf club.csv'         sandwich.csv\r\n",
      " basketball.csv\t\t grapes.csv\t        saw.csv\r\n",
      " basket.csv\t\t grass.csv\t        saxophone.csv\r\n",
      " bat.csv\t\t guitar.csv\t       'school bus.csv'\r\n",
      " bathtub.csv\t\t hamburger.csv\t        scissors.csv\r\n",
      " beach.csv\t\t hammer.csv\t        scorpion.csv\r\n",
      " bear.csv\t\t hand.csv\t        screwdriver.csv\r\n",
      " beard.csv\t\t harp.csv\t       'sea turtle.csv'\r\n",
      " bed.csv\t\t hat.csv\t       'see saw.csv'\r\n",
      " bee.csv\t\t headphones.csv         shark.csv\r\n",
      " belt.csv\t\t hedgehog.csv\t        sheep.csv\r\n",
      " bench.csv\t\t helicopter.csv         shoe.csv\r\n",
      " bicycle.csv\t\t helmet.csv\t        shorts.csv\r\n",
      " binoculars.csv\t\t hexagon.csv\t        shovel.csv\r\n",
      " bird.csv\t\t'hockey puck.csv'       sink.csv\r\n",
      "'birthday cake.csv'\t'hockey stick.csv'      skateboard.csv\r\n",
      " blackberry.csv\t\t horse.csv\t        skull.csv\r\n",
      " blueberry.csv\t\t hospital.csv\t        skyscraper.csv\r\n",
      " book.csv\t\t'hot air balloon.csv'  'sleeping bag.csv'\r\n",
      " boomerang.csv\t\t'hot dog.csv'\t       'smiley face.csv'\r\n",
      " bottlecap.csv\t\t'hot tub.csv'\t        snail.csv\r\n",
      " bowtie.csv\t\t hourglass.csv\t        snake.csv\r\n",
      " bracelet.csv\t\t house.csv\t        snorkel.csv\r\n",
      " brain.csv\t\t'house plant.csv'       snowflake.csv\r\n",
      " bread.csv\t\t hurricane.csv\t        snowman.csv\r\n",
      " bridge.csv\t\t'ice cream.csv'        'soccer ball.csv'\r\n",
      " broccoli.csv\t\t jacket.csv\t        sock.csv\r\n",
      " broom.csv\t\t jail.csv\t        speedboat.csv\r\n",
      " bucket.csv\t\t kangaroo.csv\t        spider.csv\r\n",
      " bulldozer.csv\t\t keyboard.csv\t        spoon.csv\r\n",
      " bus.csv\t\t key.csv\t        spreadsheet.csv\r\n",
      " bush.csv\t\t knee.csv\t        square.csv\r\n",
      " butterfly.csv\t\t ladder.csv\t        squiggle.csv\r\n",
      " cactus.csv\t\t lantern.csv\t        squirrel.csv\r\n",
      " cake.csv\t\t laptop.csv\t        stairs.csv\r\n",
      " calculator.csv\t\t leaf.csv\t        star.csv\r\n",
      " calendar.csv\t\t leg.csv\t        steak.csv\r\n",
      " camel.csv\t\t'light bulb.csv'        stereo.csv\r\n",
      " camera.csv\t\t lighthouse.csv         stethoscope.csv\r\n",
      " camouflage.csv\t\t lightning.csv\t        stitches.csv\r\n",
      " campfire.csv\t\t line.csv\t       'stop sign.csv'\r\n",
      " candle.csv\t\t lion.csv\t        stove.csv\r\n",
      " cannon.csv\t\t lipstick.csv\t        strawberry.csv\r\n",
      " canoe.csv\t\t lobster.csv\t        streetlight.csv\r\n",
      " car.csv\t\t lollipop.csv\t       'string bean.csv'\r\n",
      " carrot.csv\t\t mailbox.csv\t        submarine.csv\r\n",
      " castle.csv\t\t map.csv\t        suitcase.csv\r\n",
      " cat.csv\t\t marker.csv\t        sun.csv\r\n",
      "'ceiling fan.csv'\t matches.csv\t        swan.csv\r\n",
      " cello.csv\t\t megaphone.csv\t        sweater.csv\r\n",
      "'cell phone.csv'\t mermaid.csv\t       'swing set.csv'\r\n",
      " chair.csv\t\t microphone.csv         sword.csv\r\n",
      " chandelier.csv\t\t microwave.csv\t        table.csv\r\n",
      " church.csv\t\t monkey.csv\t        teapot.csv\r\n",
      " circle.csv\t\t moon.csv\t        teddy-bear.csv\r\n",
      " clarinet.csv\t\t mosquito.csv\t        telephone.csv\r\n",
      " clock.csv\t\t motorbike.csv\t        television.csv\r\n",
      " cloud.csv\t\t mountain.csv\t       'tennis racquet.csv'\r\n",
      "'coffee cup.csv'\t mouse.csv\t        tent.csv\r\n",
      " compass.csv\t\t moustache.csv\t       'The Eiffel Tower.csv'\r\n",
      " computer.csv\t\t mouth.csv\t       'The Great Wall of China.csv'\r\n",
      " cookie.csv\t\t mug.csv\t       'The Mona Lisa.csv'\r\n",
      " cooler.csv\t\t mushroom.csv\t        tiger.csv\r\n",
      " couch.csv\t\t nail.csv\t        toaster.csv\r\n",
      " cow.csv\t\t necklace.csv\t        toe.csv\r\n",
      " crab.csv\t\t nose.csv\t        toilet.csv\r\n",
      " crayon.csv\t\t ocean.csv\t        toothbrush.csv\r\n",
      " crocodile.csv\t\t octagon.csv\t        tooth.csv\r\n",
      " crown.csv\t\t octopus.csv\t        toothpaste.csv\r\n",
      "'cruise ship.csv'\t onion.csv\t        tornado.csv\r\n",
      " cup.csv\t\t oven.csv\t        tractor.csv\r\n",
      " diamond.csv\t\t owl.csv\t       'traffic light.csv'\r\n",
      " dishwasher.csv\t\t paintbrush.csv         train.csv\r\n",
      "'diving board.csv'\t'paint can.csv'         train_simplified.zip\r\n",
      " dog.csv\t\t'palm tree.csv'         tree.csv\r\n",
      " dolphin.csv\t\t panda.csv\t        triangle.csv\r\n",
      " donut.csv\t\t pants.csv\t        trombone.csv\r\n",
      " door.csv\t\t'paper clip.csv'        truck.csv\r\n",
      " dragon.csv\t\t parachute.csv\t        trumpet.csv\r\n",
      " dresser.csv\t\t parrot.csv\t        t-shirt.csv\r\n",
      " drill.csv\t\t passport.csv\t        umbrella.csv\r\n",
      " drums.csv\t\t peanut.csv\t        underwear.csv\r\n",
      " duck.csv\t\t pear.csv\t        van.csv\r\n",
      " dumbbell.csv\t\t peas.csv\t        vase.csv\r\n",
      " ear.csv\t\t pencil.csv\t        violin.csv\r\n",
      " elbow.csv\t\t penguin.csv\t       'washing machine.csv'\r\n",
      " elephant.csv\t\t piano.csv\t        watermelon.csv\r\n",
      " envelope.csv\t\t'pickup truck.csv'      waterslide.csv\r\n",
      " eraser.csv\t\t'picture frame.csv'     whale.csv\r\n",
      " eye.csv\t\t pig.csv\t        wheel.csv\r\n",
      " eyeglasses.csv\t\t pillow.csv\t        windmill.csv\r\n",
      " face.csv\t\t pineapple.csv\t       'wine bottle.csv'\r\n",
      " fan.csv\t\t pizza.csv\t       'wine glass.csv'\r\n",
      " feather.csv\t\t pliers.csv\t        wristwatch.csv\r\n",
      " fence.csv\t\t'police car.csv'        yoga.csv\r\n",
      " finger.csv\t\t pond.csv\t        zebra.csv\r\n",
      "'fire hydrant.csv'\t pool.csv\t        zigzag.csv\r\n",
      " fireplace.csv\t\t popsicle.csv\r\n"
     ]
    }
   ],
   "source": [
    "!ls $TRAIN_DATA"
   ]
  },
  {
   "cell_type": "code",
   "execution_count": 9,
   "metadata": {},
   "outputs": [],
   "source": [
    "def to_tuples(segments):\n",
    "    return list(chain(*[zip(*segment) for segment in eval(segments)]))"
   ]
  },
  {
   "cell_type": "code",
   "execution_count": 19,
   "metadata": {},
   "outputs": [],
   "source": [
    "n = 100\n",
    "records = []\n",
    "for path in TRAIN_DATA.glob('*.csv'):\n",
    "    df = pd.read_csv(path)\n",
    "    subset = df[df.recognized].sample(n, random_state=RANDOM_STATE).copy()\n",
    "    subset['joined'] = subset.drawing.map(to_tuples)\n",
    "    subset.drop(columns=['countrycode', 'drawing', 'timestamp', 'recognized'], inplace=True)\n",
    "    records.extend(subset.to_dict('records'))"
   ]
  },
  {
   "cell_type": "code",
   "execution_count": 20,
   "metadata": {},
   "outputs": [],
   "source": [
    "data = pd.DataFrame(records)"
   ]
  },
  {
   "cell_type": "code",
   "execution_count": 21,
   "metadata": {},
   "outputs": [
    {
     "data": {
      "text/html": [
       "<div>\n",
       "<style scoped>\n",
       "    .dataframe tbody tr th:only-of-type {\n",
       "        vertical-align: middle;\n",
       "    }\n",
       "\n",
       "    .dataframe tbody tr th {\n",
       "        vertical-align: top;\n",
       "    }\n",
       "\n",
       "    .dataframe thead th {\n",
       "        text-align: right;\n",
       "    }\n",
       "</style>\n",
       "<table border=\"1\" class=\"dataframe\">\n",
       "  <thead>\n",
       "    <tr style=\"text-align: right;\">\n",
       "      <th></th>\n",
       "      <th>joined</th>\n",
       "      <th>key_id</th>\n",
       "      <th>word</th>\n",
       "    </tr>\n",
       "  </thead>\n",
       "  <tbody>\n",
       "    <tr>\n",
       "      <th>32633</th>\n",
       "      <td>[(20, 1), (16, 3), (11, 19), (9, 68), (14, 76)...</td>\n",
       "      <td>5615692126617600</td>\n",
       "      <td>trumpet</td>\n",
       "    </tr>\n",
       "    <tr>\n",
       "      <th>24987</th>\n",
       "      <td>[(52, 44), (87, 32), (117, 29), (146, 31), (17...</td>\n",
       "      <td>4642463656443904</td>\n",
       "      <td>cow</td>\n",
       "    </tr>\n",
       "    <tr>\n",
       "      <th>18633</th>\n",
       "      <td>[(0, 215), (3, 179), (10, 187), (16, 211), (10...</td>\n",
       "      <td>5249494729883648</td>\n",
       "      <td>animal migration</td>\n",
       "    </tr>\n",
       "    <tr>\n",
       "      <th>10198</th>\n",
       "      <td>[(132, 255), (134, 251), (134, 122), (138, 77)...</td>\n",
       "      <td>5749261050314752</td>\n",
       "      <td>palm tree</td>\n",
       "    </tr>\n",
       "    <tr>\n",
       "      <th>16042</th>\n",
       "      <td>[(118, 95), (116, 89), (115, 33), (120, 14), (...</td>\n",
       "      <td>5831840231325696</td>\n",
       "      <td>dog</td>\n",
       "    </tr>\n",
       "    <tr>\n",
       "      <th>29125</th>\n",
       "      <td>[(9, 126), (0, 228), (0, 236), (6, 240), (26, ...</td>\n",
       "      <td>6043171932864512</td>\n",
       "      <td>screwdriver</td>\n",
       "    </tr>\n",
       "    <tr>\n",
       "      <th>28058</th>\n",
       "      <td>[(143, 6), (87, 7), (61, 18), (23, 42), (6, 64...</td>\n",
       "      <td>5964064356302848</td>\n",
       "      <td>basketball</td>\n",
       "    </tr>\n",
       "    <tr>\n",
       "      <th>21541</th>\n",
       "      <td>[(65, 0), (70, 81), (70, 212), (23, 221), (0, ...</td>\n",
       "      <td>5555915174445056</td>\n",
       "      <td>hockey stick</td>\n",
       "    </tr>\n",
       "    <tr>\n",
       "      <th>23388</th>\n",
       "      <td>[(119, 217), (72, 216), (27, 196), (8, 183), (...</td>\n",
       "      <td>6707869829300224</td>\n",
       "      <td>apple</td>\n",
       "    </tr>\n",
       "    <tr>\n",
       "      <th>21053</th>\n",
       "      <td>[(0, 6), (41, 10), (195, 11), (255, 1), (251, ...</td>\n",
       "      <td>4854348578291712</td>\n",
       "      <td>line</td>\n",
       "    </tr>\n",
       "  </tbody>\n",
       "</table>\n",
       "</div>"
      ],
      "text/plain": [
       "                                                  joined            key_id  \\\n",
       "32633  [(20, 1), (16, 3), (11, 19), (9, 68), (14, 76)...  5615692126617600   \n",
       "24987  [(52, 44), (87, 32), (117, 29), (146, 31), (17...  4642463656443904   \n",
       "18633  [(0, 215), (3, 179), (10, 187), (16, 211), (10...  5249494729883648   \n",
       "10198  [(132, 255), (134, 251), (134, 122), (138, 77)...  5749261050314752   \n",
       "16042  [(118, 95), (116, 89), (115, 33), (120, 14), (...  5831840231325696   \n",
       "29125  [(9, 126), (0, 228), (0, 236), (6, 240), (26, ...  6043171932864512   \n",
       "28058  [(143, 6), (87, 7), (61, 18), (23, 42), (6, 64...  5964064356302848   \n",
       "21541  [(65, 0), (70, 81), (70, 212), (23, 221), (0, ...  5555915174445056   \n",
       "23388  [(119, 217), (72, 216), (27, 196), (8, 183), (...  6707869829300224   \n",
       "21053  [(0, 6), (41, 10), (195, 11), (255, 1), (251, ...  4854348578291712   \n",
       "\n",
       "                   word  \n",
       "32633           trumpet  \n",
       "24987               cow  \n",
       "18633  animal migration  \n",
       "10198         palm tree  \n",
       "16042               dog  \n",
       "29125       screwdriver  \n",
       "28058        basketball  \n",
       "21541      hockey stick  \n",
       "23388             apple  \n",
       "21053              line  "
      ]
     },
     "execution_count": 21,
     "metadata": {},
     "output_type": "execute_result"
    }
   ],
   "source": [
    "data.sample(10)"
   ]
  },
  {
   "cell_type": "code",
   "execution_count": 14,
   "metadata": {},
   "outputs": [],
   "source": [
    "basket = pd.read_csv(TRAIN_DATA/'basket.csv')"
   ]
  },
  {
   "cell_type": "code",
   "execution_count": 15,
   "metadata": {},
   "outputs": [
    {
     "data": {
      "text/plain": [
       "(118458, 6)"
      ]
     },
     "execution_count": 15,
     "metadata": {},
     "output_type": "execute_result"
    }
   ],
   "source": [
    "basket.shape"
   ]
  },
  {
   "cell_type": "code",
   "execution_count": 27,
   "metadata": {},
   "outputs": [],
   "source": [
    "def to_tuples(segments):\n",
    "    return list(chain(*[zip(*segment) for segment in eval(segments)]))"
   ]
  },
  {
   "cell_type": "code",
   "execution_count": 53,
   "metadata": {},
   "outputs": [
    {
     "data": {
      "text/plain": [
       "0    [(3, 14), (40, 150), (185, 151), (191, 148), (...\n",
       "1    [(180, 14), (131, 0), (96, 0), (49, 20), (7, 4...\n",
       "2    [(255, 102), (241, 100), (161, 105), (45, 91),...\n",
       "3    [(70, 116), (67, 63), (73, 35), (81, 22), (94,...\n",
       "4    [(0, 146), (0, 189), (3, 220), (6, 222), (100,...\n",
       "5    [(19, 104), (71, 33), (87, 18), (120, 3), (156...\n",
       "6    [(105, 15), (98, 13), (72, 20), (46, 34), (33,...\n",
       "7    [(17, 144), (34, 249), (60, 247), (83, 238), (...\n",
       "8    [(27, 141), (28, 122), (35, 101), (51, 54), (6...\n",
       "9    [(40, 120), (128, 106), (207, 105), (237, 115)...\n",
       "Name: drawing, dtype: object"
      ]
     },
     "execution_count": 53,
     "metadata": {},
     "output_type": "execute_result"
    }
   ],
   "source": [
    "basket.drawing[:10].map(to_tuples)"
   ]
  },
  {
   "cell_type": "code",
   "execution_count": 54,
   "metadata": {},
   "outputs": [
    {
     "data": {
      "text/html": [
       "<div>\n",
       "<style scoped>\n",
       "    .dataframe tbody tr th:only-of-type {\n",
       "        vertical-align: middle;\n",
       "    }\n",
       "\n",
       "    .dataframe tbody tr th {\n",
       "        vertical-align: top;\n",
       "    }\n",
       "\n",
       "    .dataframe thead th {\n",
       "        text-align: right;\n",
       "    }\n",
       "</style>\n",
       "<table border=\"1\" class=\"dataframe\">\n",
       "  <thead>\n",
       "    <tr style=\"text-align: right;\">\n",
       "      <th></th>\n",
       "      <th>countrycode</th>\n",
       "      <th>drawing</th>\n",
       "      <th>key_id</th>\n",
       "      <th>recognized</th>\n",
       "      <th>timestamp</th>\n",
       "      <th>word</th>\n",
       "    </tr>\n",
       "  </thead>\n",
       "  <tbody>\n",
       "    <tr>\n",
       "      <th>0</th>\n",
       "      <td>US</td>\n",
       "      <td>[[[3, 40, 185, 191, 196, 203, 249], [14, 150, ...</td>\n",
       "      <td>6700773268258816</td>\n",
       "      <td>True</td>\n",
       "      <td>2017-03-12 01:17:43.217220</td>\n",
       "      <td>basket</td>\n",
       "    </tr>\n",
       "    <tr>\n",
       "      <th>1</th>\n",
       "      <td>DE</td>\n",
       "      <td>[[[180, 131, 96, 49, 7, 3, 6, 12, 42, 64, 92, ...</td>\n",
       "      <td>5328028487909376</td>\n",
       "      <td>True</td>\n",
       "      <td>2017-03-21 15:42:11.814440</td>\n",
       "      <td>basket</td>\n",
       "    </tr>\n",
       "  </tbody>\n",
       "</table>\n",
       "</div>"
      ],
      "text/plain": [
       "  countrycode                                            drawing            key_id  recognized                   timestamp    word\n",
       "0          US  [[[3, 40, 185, 191, 196, 203, 249], [14, 150, ...  6700773268258816        True  2017-03-12 01:17:43.217220  basket\n",
       "1          DE  [[[180, 131, 96, 49, 7, 3, 6, 12, 42, 64, 92, ...  5328028487909376        True  2017-03-21 15:42:11.814440  basket"
      ]
     },
     "execution_count": 54,
     "metadata": {},
     "output_type": "execute_result"
    }
   ],
   "source": [
    "basket.head(2)"
   ]
  },
  {
   "cell_type": "code",
   "execution_count": 50,
   "metadata": {
    "scrolled": false
   },
   "outputs": [],
   "source": [
    "items = list(chain(*basket.drawing[:10].map(to_tuples).tolist()))"
   ]
  },
  {
   "cell_type": "code",
   "execution_count": 52,
   "metadata": {},
   "outputs": [
    {
     "data": {
      "text/plain": [
       "(494, 488)"
      ]
     },
     "execution_count": 52,
     "metadata": {},
     "output_type": "execute_result"
    }
   ],
   "source": [
    "len(items), len(set(items))"
   ]
  },
  {
   "cell_type": "code",
   "execution_count": 22,
   "metadata": {},
   "outputs": [
    {
     "data": {
      "text/plain": [
       "[(11, 97),\n",
       " (8, 163),\n",
       " (15, 232),\n",
       " (22, 253),\n",
       " (170, 219),\n",
       " (210, 224),\n",
       " (190, 170),\n",
       " (180, 123),\n",
       " (180, 91),\n",
       " (175, 83),\n",
       " (134, 91),\n",
       " (57, 97),\n",
       " (47, 102),\n",
       " (8, 109),\n",
       " (0, 90),\n",
       " (2, 60),\n",
       " (11, 40),\n",
       " (41, 10),\n",
       " (63, 0),\n",
       " (104, 4),\n",
       " (153, 23),\n",
       " (164, 34),\n",
       " (178, 66),\n",
       " (185, 93),\n",
       " (165, 94),\n",
       " (157, 87),\n",
       " (142, 51),\n",
       " (124, 36),\n",
       " (102, 35),\n",
       " (61, 43),\n",
       " (50, 47),\n",
       " (27, 78),\n",
       " (15, 98),\n",
       " (13, 107),\n",
       " (15, 108),\n",
       " (17, 114),\n",
       " (44, 122),\n",
       " (103, 151),\n",
       " (212, 221),\n",
       " (30, 111),\n",
       " (46, 111),\n",
       " (86, 122),\n",
       " (116, 139),\n",
       " (184, 167),\n",
       " (196, 175),\n",
       " (71, 94),\n",
       " (108, 115),\n",
       " (194, 148),\n",
       " (128, 90),\n",
       " (198, 136),\n",
       " (16, 125),\n",
       " (46, 149),\n",
       " (91, 178),\n",
       " (123, 208),\n",
       " (177, 237),\n",
       " (7, 157),\n",
       " (71, 195),\n",
       " (118, 218),\n",
       " (137, 231),\n",
       " (11, 197),\n",
       " (65, 224),\n",
       " (95, 244),\n",
       " (28, 237),\n",
       " (61, 246),\n",
       " (76, 96),\n",
       " (24, 139),\n",
       " (10, 168),\n",
       " (101, 106),\n",
       " (107, 97),\n",
       " (102, 99),\n",
       " (88, 111),\n",
       " (34, 185),\n",
       " (14, 219),\n",
       " (8, 241),\n",
       " (158, 93),\n",
       " (130, 103),\n",
       " (71, 164),\n",
       " (44, 199),\n",
       " (26, 237),\n",
       " (170, 88),\n",
       " (147, 119),\n",
       " (104, 165),\n",
       " (37, 254),\n",
       " (186, 89),\n",
       " (142, 167),\n",
       " (84, 255),\n",
       " (191, 117),\n",
       " (154, 205),\n",
       " (147, 229),\n",
       " (193, 166),\n",
       " (178, 208),\n",
       " (173, 234),\n",
       " (209, 198),\n",
       " (208, 221),\n",
       " (197, 248),\n",
       " (173, 115),\n",
       " (126, 231)]"
      ]
     },
     "execution_count": 22,
     "metadata": {},
     "output_type": "execute_result"
    }
   ],
   "source": [
    "list(chain(*[zip(*segment) for segment in eval(basket.drawing[20])]))"
   ]
  },
  {
   "cell_type": "code",
   "execution_count": 17,
   "metadata": {},
   "outputs": [
    {
     "data": {
      "text/plain": [
       "0    [[[3, 40, 185, 191, 196, 203, 249], [14, 150, ...\n",
       "1    [[[180, 131, 96, 49, 7, 3, 6, 12, 42, 64, 92, ...\n",
       "2    [[[255, 241, 161, 45, 22, 15, 11, 8, 12, 23, 7...\n",
       "3    [[[70, 67, 73, 81, 94, 118, 129, 134, 143, 143...\n",
       "4    [[[0, 0, 3, 6, 100, 248, 237, 230], [146, 189,...\n",
       "5    [[[19, 71, 87, 120, 156, 168, 186, 207, 223, 2...\n",
       "6    [[[105, 98, 72, 46, 33, 14, 10, 12, 36, 48, 77...\n",
       "7    [[[17, 34, 60, 83, 156, 230, 254, 239, 225, 20...\n",
       "8    [[[27, 28, 35, 51, 64, 82, 108, 130, 157, 196,...\n",
       "9    [[[40, 128, 207, 237, 241, 239, 224, 181, 106,...\n",
       "Name: drawing, dtype: object"
      ]
     },
     "execution_count": 17,
     "metadata": {},
     "output_type": "execute_result"
    }
   ],
   "source": [
    "basket.drawing[:10].map(eval).map(to_tuples)"
   ]
  },
  {
   "cell_type": "code",
   "execution_count": 16,
   "metadata": {},
   "outputs": [
    {
     "data": {
      "text/html": [
       "<div>\n",
       "<style scoped>\n",
       "    .dataframe tbody tr th:only-of-type {\n",
       "        vertical-align: middle;\n",
       "    }\n",
       "\n",
       "    .dataframe tbody tr th {\n",
       "        vertical-align: top;\n",
       "    }\n",
       "\n",
       "    .dataframe thead th {\n",
       "        text-align: right;\n",
       "    }\n",
       "</style>\n",
       "<table border=\"1\" class=\"dataframe\">\n",
       "  <thead>\n",
       "    <tr style=\"text-align: right;\">\n",
       "      <th></th>\n",
       "      <th>countrycode</th>\n",
       "      <th>drawing</th>\n",
       "      <th>key_id</th>\n",
       "      <th>recognized</th>\n",
       "      <th>timestamp</th>\n",
       "      <th>word</th>\n",
       "    </tr>\n",
       "  </thead>\n",
       "  <tbody>\n",
       "    <tr>\n",
       "      <th>0</th>\n",
       "      <td>US</td>\n",
       "      <td>[[[3, 40, 185, 191, 196, 203, 249], [14, 150, ...</td>\n",
       "      <td>6700773268258816</td>\n",
       "      <td>True</td>\n",
       "      <td>2017-03-12 01:17:43.217220</td>\n",
       "      <td>basket</td>\n",
       "    </tr>\n",
       "    <tr>\n",
       "      <th>1</th>\n",
       "      <td>DE</td>\n",
       "      <td>[[[180, 131, 96, 49, 7, 3, 6, 12, 42, 64, 92, ...</td>\n",
       "      <td>5328028487909376</td>\n",
       "      <td>True</td>\n",
       "      <td>2017-03-21 15:42:11.814440</td>\n",
       "      <td>basket</td>\n",
       "    </tr>\n",
       "    <tr>\n",
       "      <th>2</th>\n",
       "      <td>PH</td>\n",
       "      <td>[[[255, 241, 161, 45, 22, 15, 11, 8, 12, 23, 7...</td>\n",
       "      <td>5649962526310400</td>\n",
       "      <td>True</td>\n",
       "      <td>2017-03-18 08:20:41.457080</td>\n",
       "      <td>basket</td>\n",
       "    </tr>\n",
       "    <tr>\n",
       "      <th>3</th>\n",
       "      <td>TH</td>\n",
       "      <td>[[[70, 67, 73, 81, 94, 118, 129, 134, 143, 143...</td>\n",
       "      <td>5991135019270144</td>\n",
       "      <td>True</td>\n",
       "      <td>2017-01-28 13:41:32.059050</td>\n",
       "      <td>basket</td>\n",
       "    </tr>\n",
       "    <tr>\n",
       "      <th>4</th>\n",
       "      <td>GB</td>\n",
       "      <td>[[[0, 0, 3, 6, 100, 248, 237, 230], [146, 189,...</td>\n",
       "      <td>6745972837187584</td>\n",
       "      <td>True</td>\n",
       "      <td>2017-01-26 22:46:12.791720</td>\n",
       "      <td>basket</td>\n",
       "    </tr>\n",
       "  </tbody>\n",
       "</table>\n",
       "</div>"
      ],
      "text/plain": [
       "  countrycode                                            drawing            key_id  recognized                   timestamp    word\n",
       "0          US  [[[3, 40, 185, 191, 196, 203, 249], [14, 150, ...  6700773268258816        True  2017-03-12 01:17:43.217220  basket\n",
       "1          DE  [[[180, 131, 96, 49, 7, 3, 6, 12, 42, 64, 92, ...  5328028487909376        True  2017-03-21 15:42:11.814440  basket\n",
       "2          PH  [[[255, 241, 161, 45, 22, 15, 11, 8, 12, 23, 7...  5649962526310400        True  2017-03-18 08:20:41.457080  basket\n",
       "3          TH  [[[70, 67, 73, 81, 94, 118, 129, 134, 143, 143...  5991135019270144        True  2017-01-28 13:41:32.059050  basket\n",
       "4          GB  [[[0, 0, 3, 6, 100, 248, 237, 230], [146, 189,...  6745972837187584        True  2017-01-26 22:46:12.791720  basket"
      ]
     },
     "execution_count": 16,
     "metadata": {},
     "output_type": "execute_result"
    }
   ],
   "source": [
    "basket.head()"
   ]
  },
  {
   "cell_type": "code",
   "execution_count": 71,
   "metadata": {},
   "outputs": [],
   "source": [
    "canvas = PILImage.new('RGB', (256, 256), color='white')\n",
    "draw = PILDraw.Draw(canvas)\n",
    "from itertools import cycle\n",
    "colors = cycle(['#0095EF', '#3C50B1', '#6A38B3', '#A224AD', '#F31D64', '#FE433C'])\n",
    "\n",
    "for segment, color in zip(eval(basket['drawing'][20]), colors):\n",
    "    xs, ys = segment\n",
    "    prev_pts = zip(xs[:-1], ys[:-1])\n",
    "    next_pts = zip(xs[1:], ys[1:])\n",
    "    for (x1, y1), (x2, y2) in zip(prev_pts, next_pts):\n",
    "        draw.line((x1, y1, x2, y2), fill=color, width=2)"
   ]
  },
  {
   "cell_type": "code",
   "execution_count": 72,
   "metadata": {},
   "outputs": [
    {
     "data": {
      "image/png": "[encoded data removed]",
      "text/plain": [
       "<PIL.Image.Image image mode=RGB size=256x256 at 0x7F77A92809E8>"
      ]
     },
     "execution_count": 72,
     "metadata": {},
     "output_type": "execute_result"
    }
   ],
   "source": [
    "canvas"
   ]
  },
  {
   "cell_type": "code",
   "execution_count": null,
   "metadata": {},
   "outputs": [],
   "source": []
  }
 ],
 "metadata": {
  "kernelspec": {
   "display_name": "Python 3",
   "language": "python",
   "name": "python3"
  },
  "language_info": {
   "codemirror_mode": {
    "name": "ipython",
    "version": 3
   },
   "file_extension": ".py",
   "mimetype": "text/x-python",
   "name": "python",
   "nbconvert_exporter": "python",
   "pygments_lexer": "ipython3",
   "version": "3.7.0"
  }
 },
 "nbformat": 4,
 "nbformat_minor": 2
}

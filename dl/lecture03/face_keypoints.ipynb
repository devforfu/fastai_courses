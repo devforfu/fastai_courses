{
 "cells": [
  {
   "cell_type": "code",
   "execution_count": null,
   "metadata": {},
   "outputs": [],
   "source": [
    "from pathlib import Path"
   ]
  },
  {
   "cell_type": "code",
   "execution_count": null,
   "metadata": {},
   "outputs": [],
   "source": [
    "import pandas as pd\n",
    "from fastai import *\n",
    "from fastai.vision import *"
   ]
  },
  {
   "cell_type": "code",
   "execution_count": null,
   "metadata": {},
   "outputs": [],
   "source": [
    "ROOT = Path.home()/'data'/'landmarks'/'all'"
   ]
  },
  {
   "cell_type": "code",
   "execution_count": null,
   "metadata": {},
   "outputs": [],
   "source": [
    "!ls $ROOT"
   ]
  },
  {
   "cell_type": "code",
   "execution_count": null,
   "metadata": {},
   "outputs": [],
   "source": [
    "def gather_files(root):\n",
    "    images = []\n",
    "    for ext in ('jpeg', 'jpg', 'JPEG', 'JPG', 'png', 'PNG'):\n",
    "        for filename in root.glob(f'**/*.{ext}'):\n",
    "            images.append(filename)\n",
    "    \n",
    "    points = {}\n",
    "    for ext in ('pts', 'PTS'):\n",
    "        for filename in root.glob(f'**/*.{ext}'):\n",
    "            points[filename.stem] = filename\n",
    "        \n",
    "    records = []\n",
    "    for i, image_file in enumerate(images):\n",
    "        uid = image_file.stem\n",
    "        if uid not in points:\n",
    "            print(f'Warning: image file {image_file} doesn\\'t have landmarks file')\n",
    "            continue\n",
    "        records.append({'uid': i, 'image': str(image_file), 'points': points[uid]})\n",
    "        \n",
    "    return pd.DataFrame(records, columns=['uid', 'image', 'points'])"
   ]
  },
  {
   "cell_type": "code",
   "execution_count": null,
   "metadata": {},
   "outputs": [],
   "source": [
    "dataset = gather_files(ROOT)"
   ]
  },
  {
   "cell_type": "code",
   "execution_count": null,
   "metadata": {},
   "outputs": [],
   "source": [
    "dataset.head()"
   ]
  },
  {
   "cell_type": "code",
   "execution_count": null,
   "metadata": {},
   "outputs": [],
   "source": [
    "ImageItemList.from_csv()"
   ]
  },
  {
   "cell_type": "code",
   "execution_count": null,
   "metadata": {},
   "outputs": [],
   "source": []
  }
 ],
 "metadata": {
  "kernelspec": {
   "display_name": "Python 3",
   "language": "python",
   "name": "python3"
  },
  "language_info": {
   "codemirror_mode": {
    "name": "ipython",
    "version": 3
   },
   "file_extension": ".py",
   "mimetype": "text/x-python",
   "name": "python",
   "nbconvert_exporter": "python",
   "pygments_lexer": "ipython3",
   "version": "3.7.1"
  }
 },
 "nbformat": 4,
 "nbformat_minor": 2
}

{
 "cells": [
  {
   "cell_type": "code",
   "execution_count": 1,
   "metadata": {},
   "outputs": [],
   "source": [
    "from pathlib import Path"
   ]
  },
  {
   "cell_type": "code",
   "execution_count": 9,
   "metadata": {},
   "outputs": [],
   "source": [
    "from fastai import *\n",
    "from fastai.vision import *\n",
    "from fastai.metrics import *\n",
    "from torchvision import models"
   ]
  },
  {
   "cell_type": "code",
   "execution_count": 27,
   "metadata": {},
   "outputs": [],
   "source": [
    "PATH = Path.home()/'data'/'facial_expressions'/'fer2013'/'images'"
   ]
  },
  {
   "cell_type": "code",
   "execution_count": 28,
   "metadata": {},
   "outputs": [],
   "source": [
    "bunch = ImageDataBunch.from_folder(\n",
    "    PATH, \n",
    "    train='train',\n",
    "    valid='valid',\n",
    "    bs=1024, \n",
    "    sz=48,\n",
    "    tfms_ds=get_transforms()\n",
    ").normalize(imagenet_stats)"
   ]
  },
  {
   "cell_type": "code",
   "execution_count": 29,
   "metadata": {},
   "outputs": [],
   "source": [
    "learn = create_cnn(bunch, models.resnet34, metrics=[accuracy, error_rate])"
   ]
  },
  {
   "cell_type": "code",
   "execution_count": 30,
   "metadata": {},
   "outputs": [
    {
     "name": "stdout",
     "output_type": "stream",
     "text": [
      "Total time: 01:10\n",
      "epoch  train_loss  valid_loss  accuracy  error_rate\n",
      "1      2.182491    1.818525    0.316244  0.683756    (00:07)\n",
      "2      1.937623    1.631204    0.361103  0.638897    (00:07)\n",
      "3      1.757491    1.542148    0.391195  0.608805    (00:07)\n",
      "4      1.624287    1.485704    0.422402  0.577598    (00:07)\n",
      "5      1.523639    1.447340    0.439398  0.560602    (00:07)\n",
      "6      1.444879    1.418799    0.457788  0.542212    (00:07)\n",
      "7      1.382901    1.400357    0.468097  0.531903    (00:07)\n",
      "8      1.332456    1.387687    0.468654  0.531346    (00:07)\n",
      "9      1.293380    1.384559    0.475899  0.524101    (00:06)\n",
      "10     1.267690    1.384633    0.474227  0.525773    (00:07)\n",
      "\n"
     ]
    }
   ],
   "source": [
    "learn.fit_one_cycle(10)"
   ]
  },
  {
   "cell_type": "code",
   "execution_count": null,
   "metadata": {},
   "outputs": [],
   "source": []
  }
 ],
 "metadata": {
  "kernelspec": {
   "display_name": "Python 3",
   "language": "python",
   "name": "python3"
  },
  "language_info": {
   "codemirror_mode": {
    "name": "ipython",
    "version": 3
   },
   "file_extension": ".py",
   "mimetype": "text/x-python",
   "name": "python",
   "nbconvert_exporter": "python",
   "pygments_lexer": "ipython3",
   "version": "3.7.0"
  }
 },
 "nbformat": 4,
 "nbformat_minor": 2
}
